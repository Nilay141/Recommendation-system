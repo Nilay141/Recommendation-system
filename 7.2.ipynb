{
 "cells": [
  {
   "cell_type": "code",
   "execution_count": 6,
   "metadata": {},
   "outputs": [
    {
     "name": "stdout",
     "output_type": "stream",
     "text": [
      "running  :  run\n",
      "is  :  is\n",
      "just  :  just\n",
      "like  :  like\n",
      "walking  :  walk\n",
      "but  :  but\n",
      "at  :  at\n",
      "the  :  the\n",
      "fast  :  fast\n",
      "pace  :  pace\n",
      ",  :  ,\n",
      "where  :  where\n",
      "legs  :  leg\n",
      "are  :  are\n",
      "moving  :  move\n",
      "speedily  :  speedili\n"
     ]
    }
   ],
   "source": [
    "#porter stemmer\n",
    "import nltk\n",
    "from nltk.stem import PorterStemmer\n",
    "from nltk.tokenize import word_tokenize\n",
    "  \n",
    "ps = PorterStemmer()\n",
    "  \n",
    "sentence =\"running is just like walking but at the fast pace, where legs are moving speedily\"\n",
    "words = word_tokenize(sentence)\n",
    "  \n",
    "for w in words:\n",
    "    print(w, \" : \", ps.stem(w))"
   ]
  },
  {
   "cell_type": "code",
   "execution_count": 9,
   "metadata": {},
   "outputs": [
    {
     "name": "stdout",
     "output_type": "stream",
     "text": [
      "running  :  run\n",
      "is  :  is\n",
      "just  :  just\n",
      "like  :  like\n",
      "walking  :  walk\n",
      "but  :  but\n",
      "at  :  at\n",
      "the  :  the\n",
      "fast  :  fast\n",
      "pace  :  pace\n",
      ",  :  ,\n",
      "where  :  where\n",
      "legs  :  leg\n",
      "are  :  are\n",
      "moving  :  move\n",
      "speedily  :  speedili\n"
     ]
    }
   ],
   "source": [
    "#Snowball stemmer\n",
    "import nltk\n",
    "from nltk.stem.snowball import SnowballStemmer\n",
    "from nltk.tokenize import word_tokenize\n",
    "  \n",
    "ss = SnowballStemmer(\"english\")\n",
    "  \n",
    "sentence =\"running is just like walking but at the fast pace, where legs are moving speedily\"\n",
    "words = word_tokenize(sentence)\n",
    "  \n",
    "for w in words:\n",
    "    print(w, \" : \", ss.stem(w))"
   ]
  },
  {
   "cell_type": "code",
   "execution_count": 11,
   "metadata": {},
   "outputs": [
    {
     "name": "stdout",
     "output_type": "stream",
     "text": [
      "running  :  run\n",
      "is  :  is\n",
      "just  :  just\n",
      "like  :  like\n",
      "walking  :  walk\n",
      "but  :  but\n",
      "at  :  at\n",
      "the  :  the\n",
      "fast  :  fast\n",
      "pace  :  pace\n",
      ",  :  ,\n",
      "where  :  where\n",
      "legs  :  leg\n",
      "are  :  are\n",
      "moving  :  move\n",
      "speedily  :  speedili\n"
     ]
    }
   ],
   "source": [
    "#Snowball stemmer without stopwords\n",
    "import nltk\n",
    "from nltk.stem.snowball import SnowballStemmer\n",
    "from nltk.tokenize import word_tokenize\n",
    "  \n",
    "ss = SnowballStemmer(\"english\",ignore_stopwords=True)\n",
    "  \n",
    "sentence =\"running is just like walking but at the fast pace, where legs are moving speedily\"\n",
    "words = word_tokenize(sentence)\n",
    "  \n",
    "for w in words:\n",
    "    print(w, \" : \", ss.stem(w))"
   ]
  },
  {
   "cell_type": "code",
   "execution_count": 14,
   "metadata": {},
   "outputs": [
    {
     "name": "stdout",
     "output_type": "stream",
     "text": [
      "arabic danish dutch english finnish french german hungarian italian norwegian porter portuguese romanian russian spanish swedish\n"
     ]
    }
   ],
   "source": [
    "print(\" \".join(SnowballStemmer.languages))"
   ]
  },
  {
   "cell_type": "code",
   "execution_count": null,
   "metadata": {},
   "outputs": [],
   "source": []
  }
 ],
 "metadata": {
  "kernelspec": {
   "display_name": "Python 3",
   "language": "python",
   "name": "python3"
  },
  "language_info": {
   "codemirror_mode": {
    "name": "ipython",
    "version": 3
   },
   "file_extension": ".py",
   "mimetype": "text/x-python",
   "name": "python",
   "nbconvert_exporter": "python",
   "pygments_lexer": "ipython3",
   "version": "3.8.5"
  }
 },
 "nbformat": 4,
 "nbformat_minor": 4
}
